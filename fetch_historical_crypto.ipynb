{
 "cells": [
  {
   "cell_type": "code",
   "execution_count": 20,
   "id": "111570de",
   "metadata": {},
   "outputs": [],
   "source": [
    "import datetime \n",
    "from binance import Client\n",
    "import pandas as pd"
   ]
  },
  {
   "cell_type": "code",
   "execution_count": 21,
   "id": "e3540de6",
   "metadata": {},
   "outputs": [],
   "source": [
    "#client = Client(api_key, api_secret) # api_key and api_secret is optional parameter\n",
    "client = Client()"
   ]
  },
  {
   "cell_type": "code",
   "execution_count": 15,
   "id": "5b3935ea",
   "metadata": {},
   "outputs": [],
   "source": [
    "klines=client.get_historical_klines(symbol=\"BTCUSDT\",interval=\"1d\",start_str=\"2022,1,1\",end_str=\"2022,1,1\")"
   ]
  },
  {
   "cell_type": "code",
   "execution_count": 16,
   "id": "bf075c58",
   "metadata": {},
   "outputs": [
    {
     "data": {
      "text/plain": [
       "[[1640995200000,\n",
       "  '46216.93000000',\n",
       "  '47954.63000000',\n",
       "  '46208.37000000',\n",
       "  '47722.65000000',\n",
       "  '19604.46325000',\n",
       "  1641081599999,\n",
       "  '924155159.58348650',\n",
       "  714899,\n",
       "  '9942.36679000',\n",
       "  '468738711.79010650',\n",
       "  '0']]"
      ]
     },
     "execution_count": 16,
     "metadata": {},
     "output_type": "execute_result"
    }
   ],
   "source": [
    "klines"
   ]
  },
  {
   "cell_type": "code",
   "execution_count": 17,
   "id": "28a1c9d3",
   "metadata": {},
   "outputs": [
    {
     "data": {
      "text/html": [
       "<div>\n",
       "<style scoped>\n",
       "    .dataframe tbody tr th:only-of-type {\n",
       "        vertical-align: middle;\n",
       "    }\n",
       "\n",
       "    .dataframe tbody tr th {\n",
       "        vertical-align: top;\n",
       "    }\n",
       "\n",
       "    .dataframe thead th {\n",
       "        text-align: right;\n",
       "    }\n",
       "</style>\n",
       "<table border=\"1\" class=\"dataframe\">\n",
       "  <thead>\n",
       "    <tr style=\"text-align: right;\">\n",
       "      <th></th>\n",
       "      <th>datetime</th>\n",
       "      <th>open</th>\n",
       "      <th>high</th>\n",
       "      <th>low</th>\n",
       "      <th>close</th>\n",
       "      <th>volume</th>\n",
       "      <th>Close_time</th>\n",
       "      <th>Quote_asset_volume</th>\n",
       "      <th>Number_of_trades</th>\n",
       "      <th>Taker_buy_base_asset_volume</th>\n",
       "      <th>Taker_buy_quote_asset_volume</th>\n",
       "      <th>Ignore</th>\n",
       "    </tr>\n",
       "  </thead>\n",
       "  <tbody>\n",
       "    <tr>\n",
       "      <th>0</th>\n",
       "      <td>1640995200000</td>\n",
       "      <td>46216.93000000</td>\n",
       "      <td>47954.63000000</td>\n",
       "      <td>46208.37000000</td>\n",
       "      <td>47722.65000000</td>\n",
       "      <td>19604.46325000</td>\n",
       "      <td>1641081599999</td>\n",
       "      <td>924155159.58348650</td>\n",
       "      <td>714899</td>\n",
       "      <td>9942.36679000</td>\n",
       "      <td>468738711.79010650</td>\n",
       "      <td>0</td>\n",
       "    </tr>\n",
       "  </tbody>\n",
       "</table>\n",
       "</div>"
      ],
      "text/plain": [
       "        datetime            open            high             low  \\\n",
       "0  1640995200000  46216.93000000  47954.63000000  46208.37000000   \n",
       "\n",
       "            close          volume     Close_time  Quote_asset_volume  \\\n",
       "0  47722.65000000  19604.46325000  1641081599999  924155159.58348650   \n",
       "\n",
       "   Number_of_trades Taker_buy_base_asset_volume Taker_buy_quote_asset_volume  \\\n",
       "0            714899               9942.36679000           468738711.79010650   \n",
       "\n",
       "  Ignore  \n",
       "0      0  "
      ]
     },
     "execution_count": 17,
     "metadata": {},
     "output_type": "execute_result"
    }
   ],
   "source": [
    "col=[\"datetime\",\"open\",\"high\",\"low\",\"close\",\"volume\",\"Close_time\",\"Quote_asset_volume\",\"Number_of_trades\",\"Taker_buy_base_asset_volume\",\"Taker_buy_quote_asset_volume\",\"Ignore\"]\n",
    "df=pd.DataFrame(klines,columns=col)\n",
    "df"
   ]
  },
  {
   "cell_type": "code",
   "execution_count": 18,
   "id": "128190dc",
   "metadata": {},
   "outputs": [],
   "source": [
    "def historical_ohlcv(Symbol,timeFrame,start_date=(2018,1,1),end_date=(2022,12,31),want_csv=False):\n",
    "    \"\"\"\n",
    "    Kline/Candlestick chart intervals:\n",
    "    m -> minutes; h -> hours; d -> days; w -> weeks; M -> months\n",
    "    1m 3m 5m 15m 30m 1h 2h 4h 6h 8h 12h 1d 3d 1w 1M\n",
    "\n",
    "    \"\"\"\n",
    "    col=[\"datetime\",\"open\",\"high\",\"low\",\"close\",\"volume\",\"Close_time\",\"Quote_asset_volume\",\"Number_of_trades\",\"Taker_buy_base_asset_volume\",\"Taker_buy_quote_asset_volume\",\"Ignore\"]\n",
    "    x=datetime.datetime(start_date[0],start_date[1],start_date[2]).timestamp()\n",
    "    y=datetime.datetime(end_date[0],end_date[1],end_date[2]).timestamp()\n",
    "    z=client.get_historical_klines(str(Symbol),interval=str(timeFrame),start_str=str(x),end_str=str(y))\n",
    "    df=pd.DataFrame(z,columns=col)\n",
    "    df.set_index([\"datetime\"],inplace=True)\n",
    "    df.index=pd.to_datetime(df.index,unit=\"ms\")\n",
    "    df[\"open\"]=df[\"open\"].astype(\"float64\")\n",
    "    df[\"high\"]=df[\"high\"].astype(\"float64\")\n",
    "    df[\"low\"]=df[\"low\"].astype(\"float64\")\n",
    "    df[\"close\"]=df[\"close\"].astype(\"float64\")\n",
    "    df[\"volume\"]=df[\"volume\"].astype(\"float64\")\n",
    "    df=df[[\"open\",\"high\",\"low\",\"close\",\"volume\"]]\n",
    "    if want_csv is True :\n",
    "        df.to_csv(\"{}_{}.csv\".format(Symbol,timeFrame))\n",
    "    return df\n"
   ]
  },
  {
   "cell_type": "code",
   "execution_count": 19,
   "id": "44a89398",
   "metadata": {},
   "outputs": [
    {
     "data": {
      "text/html": [
       "<div>\n",
       "<style scoped>\n",
       "    .dataframe tbody tr th:only-of-type {\n",
       "        vertical-align: middle;\n",
       "    }\n",
       "\n",
       "    .dataframe tbody tr th {\n",
       "        vertical-align: top;\n",
       "    }\n",
       "\n",
       "    .dataframe thead th {\n",
       "        text-align: right;\n",
       "    }\n",
       "</style>\n",
       "<table border=\"1\" class=\"dataframe\">\n",
       "  <thead>\n",
       "    <tr style=\"text-align: right;\">\n",
       "      <th></th>\n",
       "      <th>open</th>\n",
       "      <th>high</th>\n",
       "      <th>low</th>\n",
       "      <th>close</th>\n",
       "      <th>volume</th>\n",
       "    </tr>\n",
       "    <tr>\n",
       "      <th>datetime</th>\n",
       "      <th></th>\n",
       "      <th></th>\n",
       "      <th></th>\n",
       "      <th></th>\n",
       "      <th></th>\n",
       "    </tr>\n",
       "  </thead>\n",
       "  <tbody>\n",
       "    <tr>\n",
       "      <th>2022-01-01</th>\n",
       "      <td>3676.22</td>\n",
       "      <td>3776.45</td>\n",
       "      <td>3673.46</td>\n",
       "      <td>3765.54</td>\n",
       "      <td>154143.8968</td>\n",
       "    </tr>\n",
       "    <tr>\n",
       "      <th>2022-01-02</th>\n",
       "      <td>3765.54</td>\n",
       "      <td>3857.44</td>\n",
       "      <td>3717.30</td>\n",
       "      <td>3828.27</td>\n",
       "      <td>154791.4263</td>\n",
       "    </tr>\n",
       "    <tr>\n",
       "      <th>2022-01-03</th>\n",
       "      <td>3828.11</td>\n",
       "      <td>3853.09</td>\n",
       "      <td>3680.00</td>\n",
       "      <td>3765.89</td>\n",
       "      <td>236245.8586</td>\n",
       "    </tr>\n",
       "    <tr>\n",
       "      <th>2022-01-04</th>\n",
       "      <td>3765.89</td>\n",
       "      <td>3900.73</td>\n",
       "      <td>3713.11</td>\n",
       "      <td>3785.11</td>\n",
       "      <td>288258.5549</td>\n",
       "    </tr>\n",
       "    <tr>\n",
       "      <th>2022-01-05</th>\n",
       "      <td>3785.10</td>\n",
       "      <td>3848.00</td>\n",
       "      <td>3415.00</td>\n",
       "      <td>3540.63</td>\n",
       "      <td>397942.0363</td>\n",
       "    </tr>\n",
       "  </tbody>\n",
       "</table>\n",
       "</div>"
      ],
      "text/plain": [
       "               open     high      low    close       volume\n",
       "datetime                                                   \n",
       "2022-01-01  3676.22  3776.45  3673.46  3765.54  154143.8968\n",
       "2022-01-02  3765.54  3857.44  3717.30  3828.27  154791.4263\n",
       "2022-01-03  3828.11  3853.09  3680.00  3765.89  236245.8586\n",
       "2022-01-04  3765.89  3900.73  3713.11  3785.11  288258.5549\n",
       "2022-01-05  3785.10  3848.00  3415.00  3540.63  397942.0363"
      ]
     },
     "execution_count": 19,
     "metadata": {},
     "output_type": "execute_result"
    }
   ],
   "source": [
    "df=historical_ohlcv(\"ETHUSDT\",\"1d\",start_date=(2022,1,1),end_date=(2022,1,5),want_csv=True)\n",
    "df"
   ]
  },
  {
   "cell_type": "code",
   "execution_count": null,
   "id": "44272892",
   "metadata": {},
   "outputs": [],
   "source": []
  }
 ],
 "metadata": {
  "kernelspec": {
   "display_name": "Python 3 (ipykernel)",
   "language": "python",
   "name": "python3"
  },
  "language_info": {
   "codemirror_mode": {
    "name": "ipython",
    "version": 3
   },
   "file_extension": ".py",
   "mimetype": "text/x-python",
   "name": "python",
   "nbconvert_exporter": "python",
   "pygments_lexer": "ipython3",
   "version": "3.8.8"
  }
 },
 "nbformat": 4,
 "nbformat_minor": 5
}
